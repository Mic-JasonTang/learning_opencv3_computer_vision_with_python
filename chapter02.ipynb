{
 "cells": [
  {
   "cell_type": "code",
   "execution_count": null,
   "metadata": {
    "collapsed": true
   },
   "outputs": [],
   "source": [
    "# 像素操作\n",
    "import cv2\n",
    "import numpy as np\n",
    "\n",
    "img = np.zeros((3, 3), dtype=np.uint8)\n",
    "print(img, img.shape)\n",
    "\n",
    "img = cv2.cvtColor(img, cv2.COLOR_GRAY2BGR)\n",
    "\n",
    "print(img, img.shape)\n"
   ]
  },
  {
   "cell_type": "code",
   "execution_count": 13,
   "metadata": {},
   "outputs": [
    {
     "data": {
      "text/plain": [
       "13"
      ]
     },
     "execution_count": 13,
     "metadata": {},
     "output_type": "execute_result"
    }
   ],
   "source": [
    "# 将含有随机字节的bytearray转换为灰度图像和BGR图像\n",
    "import cv2\n",
    "import numpy as np\n",
    "import os\n",
    "\n",
    "# os.urandom可以随机生成原始字节\n",
    "# 也可以使用np.random.randint(0, 256, 120000)\n",
    "randomByteArray = bytearray(os.urandom(120000))\n",
    "flatNumpyArray = np.array(randomByteArray)\n",
    "\n",
    "# Covert the array to make a 400 * 300 color image\n",
    "grayImage = flatNumpyArray.reshape(300, 400)\n",
    "cv2.imshow(\"RandomGray.png\", grayImage)\n",
    "\n",
    "# Covert the array to make a 400 * 100 color image\n",
    "bgrImage = flatNumpyArray.reshape(100, 400 ,3)\n",
    "cv2.imshow(\"RandomColor.png\", bgrImage)\n",
    "\n",
    "cv2.waitKey(0)\n",
    "cv2.destroyAllWindows()"
   ]
  },
  {
   "cell_type": "code",
   "execution_count": null,
   "metadata": {
    "collapsed": true
   },
   "outputs": [],
   "source": [
    "# 将图像中的G通道设置为0\n",
    "import cv2\n",
    "import numpy as np\n",
    "img = cv2.imread(\"images/beach.png\")\n",
    "img[:, :, 1] = 0\n",
    "\n",
    "cv2.imshow(\"Set Green To 0\", img)\n",
    "cv2.waitKey(0)\n",
    "cv2.destroyAllWindows()  # 需要加上这句,不然会jupyter notebook 会死掉."
   ]
  },
  {
   "cell_type": "code",
   "execution_count": 3,
   "metadata": {
    "slideshow": {
     "slide_type": "fragment"
    }
   },
   "outputs": [
    {
     "name": "stdout",
     "output_type": "stream",
     "text": [
      "(233, 350)\n"
     ]
    }
   ],
   "source": [
    "# 通过索引访问来将部分像素考本到其它位置\n",
    "import cv2\n",
    "import numpy as np\n",
    "\n",
    "img = cv2.imread(\"images/beach.png\", cv2.IMREAD_GRAYSCALE)\n",
    "print(img.shape)\n",
    "roi = img[0:50, 0:50]\n",
    "img[100: 150, 100: 150] = roi\n",
    "\n",
    "cv2.imshow(\"ROI\", img)\n",
    "cv2.waitKey(0)\n",
    "cv2.destroyAllWindows()"
   ]
  },
  {
   "cell_type": "code",
   "execution_count": 2,
   "metadata": {},
   "outputs": [
    {
     "name": "stdout",
     "output_type": "stream",
     "text": [
      "cv2.CAP_PROP_FPS:5\n",
      "cv2.CAP_PROP_FRAME_WIDTH:3\n",
      "cv2.CAP_PROP_FRAME_HEIGHT:4\n",
      "fps:30.0, size:(1080, 1920)\n"
     ]
    }
   ],
   "source": [
    "# 视频文件的读写\n",
    "import cv2\n",
    "\n",
    "path = \"videos/\"\n",
    "filename = \"xiaotiantian.mov\"\n",
    "videoCapture = cv2.VideoCapture(path + filename)\n",
    "fps = videoCapture.get(cv2.CAP_PROP_FPS)\n",
    "size = (int(videoCapture.get(cv2.CAP_PROP_FRAME_WIDTH)),\n",
    "        int(videoCapture.get(cv2.CAP_PROP_FRAME_HEIGHT)))\n",
    "print(\"cv2.CAP_PROP_FPS:{}\".format(cv2.CAP_PROP_FPS))\n",
    "print(\"cv2.CAP_PROP_FRAME_WIDTH:{}\".format(cv2.CAP_PROP_FRAME_WIDTH))\n",
    "print(\"cv2.CAP_PROP_FRAME_HEIGHT:{}\".format(cv2.CAP_PROP_FRAME_HEIGHT))\n",
    "print(\"fps:{}, size:{}\".format(fps, size))\n",
    "# 指定视频编解码器。\"I\", \"4\", \"2\", \"0\"表示未压缩的YUV颜色编码，文件扩展名为.avi\n",
    "videoWriter = cv2.VideoWriter(\"xiaotiantian.flv\", cv2.VideoWriter_fourcc(\"F\",\n",
    "                               \"L\", \"V\", \"1\"), fps, size)\n",
    "success, frame = videoCapture.read()\n",
    "while success: # Loop until there are no more frames.\n",
    "    videoWriter.write(frame)\n",
    "    cv2.imshow(\"frame\", frame)\n",
    "    cv2.waitKey(10)\n",
    "    success, frame = videoCapture.read()\n",
    "videoWriter.release()\n",
    "videoCapture.release()"
   ]
  },
  {
   "cell_type": "code",
   "execution_count": 2,
   "metadata": {},
   "outputs": [
    {
     "ename": "ValueError",
     "evalue": "no camera can be found!",
     "output_type": "error",
     "traceback": [
      "\u001b[1;31m---------------------------------------------------------------------------\u001b[0m",
      "\u001b[1;31mValueError\u001b[0m                                Traceback (most recent call last)",
      "\u001b[1;32m<ipython-input-2-068b7920c76d>\u001b[0m in \u001b[0;36m<module>\u001b[1;34m()\u001b[0m\n\u001b[0;32m      4\u001b[0m \u001b[0mcameraCapture\u001b[0m \u001b[1;33m=\u001b[0m \u001b[0mcv2\u001b[0m\u001b[1;33m.\u001b[0m\u001b[0mVideoCapture\u001b[0m\u001b[1;33m(\u001b[0m\u001b[1;36m0\u001b[0m\u001b[1;33m)\u001b[0m\u001b[1;33m\u001b[0m\u001b[0m\n\u001b[0;32m      5\u001b[0m \u001b[1;32mif\u001b[0m \u001b[1;32mnot\u001b[0m \u001b[0mcameraCapture\u001b[0m\u001b[1;33m.\u001b[0m\u001b[0misOpened\u001b[0m\u001b[1;33m(\u001b[0m\u001b[1;33m)\u001b[0m\u001b[1;33m:\u001b[0m\u001b[1;33m\u001b[0m\u001b[0m\n\u001b[1;32m----> 6\u001b[1;33m     \u001b[1;32mraise\u001b[0m \u001b[0mValueError\u001b[0m\u001b[1;33m(\u001b[0m\u001b[1;34m\"no camera can be found!\"\u001b[0m\u001b[1;33m)\u001b[0m\u001b[1;33m\u001b[0m\u001b[0m\n\u001b[0m\u001b[0;32m      7\u001b[0m \u001b[0mfps\u001b[0m \u001b[1;33m=\u001b[0m \u001b[1;36m30\u001b[0m \u001b[1;31m# an assumption\u001b[0m\u001b[1;33m\u001b[0m\u001b[0m\n\u001b[0;32m      8\u001b[0m size = (int(cameraCapture.get(cv2.CAP_PROP_FRAME_WIDTH)),\n",
      "\u001b[1;31mValueError\u001b[0m: no camera can be found!"
     ]
    }
   ],
   "source": [
    "# 捕获摄像头的帧\n",
    "import cv2\n",
    "\n",
    "# 打开摄像头需要传入device index，然后获取10s的视频信息\n",
    "cameraCapture = cv2.VideoCapture(0)\n",
    "if not cameraCapture.isOpened():\n",
    "    raise ValueError(\"no camera can be found!\")\n",
    "fps = 30 # an assumption假设值,因为 VideoCapture的方法不能反悔摄像头帧率的准确值，总是返回0\n",
    "size = (int(cameraCapture.get(cv2.CAP_PROP_FRAME_WIDTH)),\n",
    "        int(cameraCapture.get(cv2.CAP_PROP_FRAME_HEIGHT)))\n",
    "videoWriter = cv2.VideoWriter(\"capture_video.flv\", cv2.VideoWriter_fourcc(\"F\", \"L\", \"V\", \"1\"),\n",
    "                             fps, size)\n",
    "\n",
    "# 当需要同步一组摄像头或一个多头摄像头时,read()方法就不再合适了,\n",
    "# 可用grab()(代替isOpened)和retrieve()(代替read方法代替他.\n",
    "success, frame = cameraCapture.read()\n",
    "numFrameRemaining = 10 * fps - 1\n",
    "while success and numFrameRemaining > 0:\n",
    "    videoWriter.write(frame)\n",
    "    success, frame = cameraCapture.read()\n",
    "    numFrameRemaining -= 1\n",
    "cameraCapture.release()"
   ]
  },
  {
   "cell_type": "code",
   "execution_count": 6,
   "metadata": {},
   "outputs": [
    {
     "name": "stdout",
     "output_type": "stream",
     "text": [
      "Showing camera feed. Click window or press any key to stop.\n"
     ]
    }
   ],
   "source": [
    "# 在窗口显示摄像头帧\n",
    "import cv2\n",
    "\n",
    "# 这段代码比较累赘,不需要onMouse方法即可关闭,使用cv2.waitKey()即可\n",
    "clicked = False\n",
    "# def onMouse(event, x, y, flags, param):\n",
    "#     global clicked\n",
    "#     if event == cv2.EVENT_LBUTTONUP:\n",
    "#             clicked = True\n",
    "\n",
    "cameraCapture = cv2.VideoCapture(\"videos/xiaotiantian.MOV\")\n",
    "# cv2.namedWindow(\"Video\")\n",
    "# cv2.setMouseCallback(\"Video\", onMouse)\n",
    "\n",
    "print(\"Showing camera feed. Click window or press any key to stop.\")\n",
    "success, frame = cameraCapture.read()\n",
    "# OpenCV的窗口只有在调用waitKey()函数时才会更新,waitKey()函数只在有OpenCV窗口成为活动窗口时,才能捕获输入信息.\n",
    "while success and cv2.waitKey(1) == -1 and not clicked:\n",
    "    cv2.imshow(\"Video\", frame)\n",
    "    success, frame = cameraCapture.read()\n",
    "    \n",
    "cv2.destroyWindow(\"Video\")\n",
    "cameraCapture.release()"
   ]
  }
 ],
 "metadata": {
  "kernelspec": {
   "display_name": "Python [conda env:Anaconda3]",
   "language": "python",
   "name": "conda-env-Anaconda3-py"
  },
  "language_info": {
   "codemirror_mode": {
    "name": "ipython",
    "version": 3
   },
   "file_extension": ".py",
   "mimetype": "text/x-python",
   "name": "python",
   "nbconvert_exporter": "python",
   "pygments_lexer": "ipython3",
   "version": "3.5.5"
  }
 },
 "nbformat": 4,
 "nbformat_minor": 2
}
